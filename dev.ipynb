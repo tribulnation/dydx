{
 "cells": [
  {
   "cell_type": "code",
   "execution_count": 1,
   "id": "8e0639fa",
   "metadata": {},
   "outputs": [],
   "source": [
    "from datetime import datetime, timedelta\n",
    "from dydx_v4_client.indexer.rest.indexer_client import IndexerClient\n",
    "from dydx.core import timestamp as ts\n",
    "\n",
    "INDEXER_URL = 'https://indexer.dydx.trade/'\n",
    "indexer = IndexerClient(INDEXER_URL)"
   ]
  },
  {
   "cell_type": "code",
   "execution_count": null,
   "id": "e2530fdb",
   "metadata": {},
   "outputs": [],
   "source": []
  }
 ],
 "metadata": {
  "kernelspec": {
   "display_name": ".venv",
   "language": "python",
   "name": "python3"
  },
  "language_info": {
   "codemirror_mode": {
    "name": "ipython",
    "version": 3
   },
   "file_extension": ".py",
   "mimetype": "text/x-python",
   "name": "python",
   "nbconvert_exporter": "python",
   "pygments_lexer": "ipython3",
   "version": "3.11.10"
  }
 },
 "nbformat": 4,
 "nbformat_minor": 5
}
