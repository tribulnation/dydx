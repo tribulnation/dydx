{
 "cells": [
  {
   "cell_type": "code",
   "execution_count": 1,
   "id": "8e0639fa",
   "metadata": {},
   "outputs": [],
   "source": [
    "from datetime import datetime, timedelta\n",
    "from dydx_v4_client.indexer.rest.indexer_client import IndexerClient\n",
    "from dydx.core import timestamp as ts\n",
    "\n",
    "INDEXER_URL = 'https://indexer.dydx.trade/'\n",
    "indexer = IndexerClient(INDEXER_URL)"
   ]
  },
  {
   "cell_type": "code",
   "execution_count": 2,
   "id": "eab7c64a",
   "metadata": {},
   "outputs": [
    {
     "data": {
      "text/plain": [
       "1000"
      ]
     },
     "execution_count": 2,
     "metadata": {},
     "output_type": "execute_result"
    }
   ],
   "source": [
    "# ['1MIN', '5MINS', '15MINS', '30MINS', '1HOUR', '4HOURS', '1DAY']\n",
    "end = datetime.now() - timedelta(hours=4, minutes=1)\n",
    "start = end - timedelta(days=10)\n",
    "r = await indexer.markets.get_perpetual_market_candles('BTC-USD', '1MIN', ts.dump(start), ts.dump(end))\n",
    "len(r['candles'])"
   ]
  },
  {
   "cell_type": "code",
   "execution_count": 3,
   "id": "c6ba709d",
   "metadata": {},
   "outputs": [
    {
     "data": {
      "text/plain": [
       "dict_keys(['candles'])"
      ]
     },
     "execution_count": 3,
     "metadata": {},
     "output_type": "execute_result"
    }
   ],
   "source": [
    "r.keys()"
   ]
  }
 ],
 "metadata": {
  "kernelspec": {
   "display_name": ".venv",
   "language": "python",
   "name": "python3"
  },
  "language_info": {
   "codemirror_mode": {
    "name": "ipython",
    "version": 3
   },
   "file_extension": ".py",
   "mimetype": "text/x-python",
   "name": "python",
   "nbconvert_exporter": "python",
   "pygments_lexer": "ipython3",
   "version": "3.11.10"
  }
 },
 "nbformat": 4,
 "nbformat_minor": 5
}
